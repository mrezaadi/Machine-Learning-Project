{
  "nbformat": 4,
  "nbformat_minor": 0,
  "metadata": {
    "colab": {
      "provenance": [],
      "collapsed_sections": [
        "GAaI1-XTWFo_",
        "kquRFUIsVV03",
        "DuFfu0MS7Iis",
        "LXf6PJie8nuW",
        "1gWPT4q4vJCK",
        "N-vONImIT6zo",
        "9jD8hdbIR4hX",
        "SyJqVszZRpmH"
      ]
    },
    "kernelspec": {
      "name": "python3",
      "display_name": "Python 3"
    },
    "language_info": {
      "name": "python"
    }
  },
  "cells": [
    {
      "cell_type": "markdown",
      "source": [
        "**PROJECT BASED**\n",
        "\n",
        "**KELAS : IF-44-05**\n",
        "\n",
        "**ANGGOTA KELOMPOK :**\n",
        "1.   Pradeva Faiuz Zabbar - 1301202034\n",
        "2.   Muhammad Reza Adi Nugraha - 1301204078\n",
        "3.   Elroi Yoshua - 1301204178\n",
        "4.   Refky Fauzi Deshaputra - 1301204218\n",
        "\n",
        "**Link Dataset :** [autos_mpg](https://drive.google.com/drive/u/1/folders/1HmKavcNCij76k02nCYQdP012cepM2nmz)\n",
        "\n",
        "**Note : Simpan salinan file buat Running**\n"
      ],
      "metadata": {
        "id": "we1UCUu5SMT6"
      }
    },
    {
      "cell_type": "markdown",
      "source": [
        "**afsdsfd**"
      ],
      "metadata": {
        "id": "_XFglTiUtXS0"
      }
    },
    {
      "cell_type": "markdown",
      "source": [
        "# **FORMULASI MASALAH ⌛**"
      ],
      "metadata": {
        "id": "GAaI1-XTWFo_"
      }
    },
    {
      "cell_type": "markdown",
      "source": [
        "Tugas regresi adalah tugas memprediksi tingkat kehematan bahan bakar kendaraan/MPG (miles per gallon: rataan jarak tempuh mobil dalam mil untuk setiap galon bahan bakar yang dikonsumsi) berdasarkan profil mobil yang diberikan yang diwakili oleh atribut-atribut seperti silinder, daya (tenaga kuda), tahun keluaran, dll.\n",
        "\n",
        "\n",
        "Informasi atribut.\n",
        "1. **mpg: continuous (target attribute)**\n",
        "2. cylinders: multi-valued discrete\n",
        "3. displacement: continuous\n",
        "4. horsepower: continuous\n",
        "5. weight: continuous\n",
        "6. acceleration: continuous\n",
        "7. model year: multi-valued discrete\n",
        "8. origin: multi-valued discrete\n",
        "9. car name: string (unique for each instance)"
      ],
      "metadata": {
        "id": "2-tKKqYAWMI5"
      }
    },
    {
      "cell_type": "markdown",
      "source": [
        "# **PRA-PEMROSESAN DATA 📊**"
      ],
      "metadata": {
        "id": "6mm2savTTXNo"
      }
    },
    {
      "cell_type": "markdown",
      "source": [
        "## Library dan Dataset"
      ],
      "metadata": {
        "id": "kquRFUIsVV03"
      }
    },
    {
      "cell_type": "code",
      "source": [
        "import pandas as pd\n",
        "import numpy as np\n",
        "import matplotlib.pyplot as plt\n",
        "from sklearn import linear_model\n",
        "from sklearn.model_selection import train_test_split\n",
        "import seaborn as sns\n",
        "pd.options.mode.chained_assignment = None\n",
        "import warnings\n",
        "warnings.simplefilter(action=\"ignore\", category=FutureWarning)\n",
        "pd.options.mode.chained_assignment = None\n"
      ],
      "metadata": {
        "id": "jQf4Q5s3UTKf"
      },
      "execution_count": null,
      "outputs": []
    },
    {
      "cell_type": "code",
      "source": [
        "df = pd.read_csv('/content/autos_mpg.csv')\n",
        "print(df.shape)\n",
        "df"
      ],
      "metadata": {
        "colab": {
          "base_uri": "https://localhost:8080/"
        },
        "id": "qMsUqb9RT0yl",
        "outputId": "253bca6d-97b5-4883-d384-a6d804db85d7"
      },
      "execution_count": null,
      "outputs": [
        {
          "output_type": "stream",
          "name": "stdout",
          "text": [
            "(398, 9)\n"
          ]
        },
        {
          "output_type": "execute_result",
          "data": {
            "text/plain": [
              "      mpg  cylinders  displacement horsepower  weight  acceleration  \\\n",
              "0    18.0          8         307.0        130    3504          12.0   \n",
              "1    15.0          8         350.0        165    3693          11.5   \n",
              "2    18.0          8         318.0        150    3436          11.0   \n",
              "3    16.0          8         304.0        150    3433          12.0   \n",
              "4    17.0          8         302.0        140    3449          10.5   \n",
              "..    ...        ...           ...        ...     ...           ...   \n",
              "393  27.0          4         140.0         86    2790          15.6   \n",
              "394  44.0          4          97.0         52    2130          24.6   \n",
              "395  32.0          4         135.0         84    2295          11.6   \n",
              "396  28.0          4         120.0         79    2625          18.6   \n",
              "397  31.0          4         119.0         82    2720          19.4   \n",
              "\n",
              "     model_year  origin                   car_name  \n",
              "0            70       1  chevrolet chevelle malibu  \n",
              "1            70       1          buick skylark 320  \n",
              "2            70       1         plymouth satellite  \n",
              "3            70       1              amc rebel sst  \n",
              "4            70       1                ford torino  \n",
              "..          ...     ...                        ...  \n",
              "393          82       1            ford mustang gl  \n",
              "394          82       2                  vw pickup  \n",
              "395          82       1              dodge rampage  \n",
              "396          82       1                ford ranger  \n",
              "397          82       1                 chevy s-10  \n",
              "\n",
              "[398 rows x 9 columns]"
            ],
            "text/html": [
              "\n",
              "  <div id=\"df-fd9cd855-37d6-4609-8851-66c22f522f28\">\n",
              "    <div class=\"colab-df-container\">\n",
              "      <div>\n",
              "<style scoped>\n",
              "    .dataframe tbody tr th:only-of-type {\n",
              "        vertical-align: middle;\n",
              "    }\n",
              "\n",
              "    .dataframe tbody tr th {\n",
              "        vertical-align: top;\n",
              "    }\n",
              "\n",
              "    .dataframe thead th {\n",
              "        text-align: right;\n",
              "    }\n",
              "</style>\n",
              "<table border=\"1\" class=\"dataframe\">\n",
              "  <thead>\n",
              "    <tr style=\"text-align: right;\">\n",
              "      <th></th>\n",
              "      <th>mpg</th>\n",
              "      <th>cylinders</th>\n",
              "      <th>displacement</th>\n",
              "      <th>horsepower</th>\n",
              "      <th>weight</th>\n",
              "      <th>acceleration</th>\n",
              "      <th>model_year</th>\n",
              "      <th>origin</th>\n",
              "      <th>car_name</th>\n",
              "    </tr>\n",
              "  </thead>\n",
              "  <tbody>\n",
              "    <tr>\n",
              "      <th>0</th>\n",
              "      <td>18.0</td>\n",
              "      <td>8</td>\n",
              "      <td>307.0</td>\n",
              "      <td>130</td>\n",
              "      <td>3504</td>\n",
              "      <td>12.0</td>\n",
              "      <td>70</td>\n",
              "      <td>1</td>\n",
              "      <td>chevrolet chevelle malibu</td>\n",
              "    </tr>\n",
              "    <tr>\n",
              "      <th>1</th>\n",
              "      <td>15.0</td>\n",
              "      <td>8</td>\n",
              "      <td>350.0</td>\n",
              "      <td>165</td>\n",
              "      <td>3693</td>\n",
              "      <td>11.5</td>\n",
              "      <td>70</td>\n",
              "      <td>1</td>\n",
              "      <td>buick skylark 320</td>\n",
              "    </tr>\n",
              "    <tr>\n",
              "      <th>2</th>\n",
              "      <td>18.0</td>\n",
              "      <td>8</td>\n",
              "      <td>318.0</td>\n",
              "      <td>150</td>\n",
              "      <td>3436</td>\n",
              "      <td>11.0</td>\n",
              "      <td>70</td>\n",
              "      <td>1</td>\n",
              "      <td>plymouth satellite</td>\n",
              "    </tr>\n",
              "    <tr>\n",
              "      <th>3</th>\n",
              "      <td>16.0</td>\n",
              "      <td>8</td>\n",
              "      <td>304.0</td>\n",
              "      <td>150</td>\n",
              "      <td>3433</td>\n",
              "      <td>12.0</td>\n",
              "      <td>70</td>\n",
              "      <td>1</td>\n",
              "      <td>amc rebel sst</td>\n",
              "    </tr>\n",
              "    <tr>\n",
              "      <th>4</th>\n",
              "      <td>17.0</td>\n",
              "      <td>8</td>\n",
              "      <td>302.0</td>\n",
              "      <td>140</td>\n",
              "      <td>3449</td>\n",
              "      <td>10.5</td>\n",
              "      <td>70</td>\n",
              "      <td>1</td>\n",
              "      <td>ford torino</td>\n",
              "    </tr>\n",
              "    <tr>\n",
              "      <th>...</th>\n",
              "      <td>...</td>\n",
              "      <td>...</td>\n",
              "      <td>...</td>\n",
              "      <td>...</td>\n",
              "      <td>...</td>\n",
              "      <td>...</td>\n",
              "      <td>...</td>\n",
              "      <td>...</td>\n",
              "      <td>...</td>\n",
              "    </tr>\n",
              "    <tr>\n",
              "      <th>393</th>\n",
              "      <td>27.0</td>\n",
              "      <td>4</td>\n",
              "      <td>140.0</td>\n",
              "      <td>86</td>\n",
              "      <td>2790</td>\n",
              "      <td>15.6</td>\n",
              "      <td>82</td>\n",
              "      <td>1</td>\n",
              "      <td>ford mustang gl</td>\n",
              "    </tr>\n",
              "    <tr>\n",
              "      <th>394</th>\n",
              "      <td>44.0</td>\n",
              "      <td>4</td>\n",
              "      <td>97.0</td>\n",
              "      <td>52</td>\n",
              "      <td>2130</td>\n",
              "      <td>24.6</td>\n",
              "      <td>82</td>\n",
              "      <td>2</td>\n",
              "      <td>vw pickup</td>\n",
              "    </tr>\n",
              "    <tr>\n",
              "      <th>395</th>\n",
              "      <td>32.0</td>\n",
              "      <td>4</td>\n",
              "      <td>135.0</td>\n",
              "      <td>84</td>\n",
              "      <td>2295</td>\n",
              "      <td>11.6</td>\n",
              "      <td>82</td>\n",
              "      <td>1</td>\n",
              "      <td>dodge rampage</td>\n",
              "    </tr>\n",
              "    <tr>\n",
              "      <th>396</th>\n",
              "      <td>28.0</td>\n",
              "      <td>4</td>\n",
              "      <td>120.0</td>\n",
              "      <td>79</td>\n",
              "      <td>2625</td>\n",
              "      <td>18.6</td>\n",
              "      <td>82</td>\n",
              "      <td>1</td>\n",
              "      <td>ford ranger</td>\n",
              "    </tr>\n",
              "    <tr>\n",
              "      <th>397</th>\n",
              "      <td>31.0</td>\n",
              "      <td>4</td>\n",
              "      <td>119.0</td>\n",
              "      <td>82</td>\n",
              "      <td>2720</td>\n",
              "      <td>19.4</td>\n",
              "      <td>82</td>\n",
              "      <td>1</td>\n",
              "      <td>chevy s-10</td>\n",
              "    </tr>\n",
              "  </tbody>\n",
              "</table>\n",
              "<p>398 rows × 9 columns</p>\n",
              "</div>\n",
              "      <button class=\"colab-df-convert\" onclick=\"convertToInteractive('df-fd9cd855-37d6-4609-8851-66c22f522f28')\"\n",
              "              title=\"Convert this dataframe to an interactive table.\"\n",
              "              style=\"display:none;\">\n",
              "        \n",
              "  <svg xmlns=\"http://www.w3.org/2000/svg\" height=\"24px\"viewBox=\"0 0 24 24\"\n",
              "       width=\"24px\">\n",
              "    <path d=\"M0 0h24v24H0V0z\" fill=\"none\"/>\n",
              "    <path d=\"M18.56 5.44l.94 2.06.94-2.06 2.06-.94-2.06-.94-.94-2.06-.94 2.06-2.06.94zm-11 1L8.5 8.5l.94-2.06 2.06-.94-2.06-.94L8.5 2.5l-.94 2.06-2.06.94zm10 10l.94 2.06.94-2.06 2.06-.94-2.06-.94-.94-2.06-.94 2.06-2.06.94z\"/><path d=\"M17.41 7.96l-1.37-1.37c-.4-.4-.92-.59-1.43-.59-.52 0-1.04.2-1.43.59L10.3 9.45l-7.72 7.72c-.78.78-.78 2.05 0 2.83L4 21.41c.39.39.9.59 1.41.59.51 0 1.02-.2 1.41-.59l7.78-7.78 2.81-2.81c.8-.78.8-2.07 0-2.86zM5.41 20L4 18.59l7.72-7.72 1.47 1.35L5.41 20z\"/>\n",
              "  </svg>\n",
              "      </button>\n",
              "      \n",
              "  <style>\n",
              "    .colab-df-container {\n",
              "      display:flex;\n",
              "      flex-wrap:wrap;\n",
              "      gap: 12px;\n",
              "    }\n",
              "\n",
              "    .colab-df-convert {\n",
              "      background-color: #E8F0FE;\n",
              "      border: none;\n",
              "      border-radius: 50%;\n",
              "      cursor: pointer;\n",
              "      display: none;\n",
              "      fill: #1967D2;\n",
              "      height: 32px;\n",
              "      padding: 0 0 0 0;\n",
              "      width: 32px;\n",
              "    }\n",
              "\n",
              "    .colab-df-convert:hover {\n",
              "      background-color: #E2EBFA;\n",
              "      box-shadow: 0px 1px 2px rgba(60, 64, 67, 0.3), 0px 1px 3px 1px rgba(60, 64, 67, 0.15);\n",
              "      fill: #174EA6;\n",
              "    }\n",
              "\n",
              "    [theme=dark] .colab-df-convert {\n",
              "      background-color: #3B4455;\n",
              "      fill: #D2E3FC;\n",
              "    }\n",
              "\n",
              "    [theme=dark] .colab-df-convert:hover {\n",
              "      background-color: #434B5C;\n",
              "      box-shadow: 0px 1px 3px 1px rgba(0, 0, 0, 0.15);\n",
              "      filter: drop-shadow(0px 1px 2px rgba(0, 0, 0, 0.3));\n",
              "      fill: #FFFFFF;\n",
              "    }\n",
              "  </style>\n",
              "\n",
              "      <script>\n",
              "        const buttonEl =\n",
              "          document.querySelector('#df-fd9cd855-37d6-4609-8851-66c22f522f28 button.colab-df-convert');\n",
              "        buttonEl.style.display =\n",
              "          google.colab.kernel.accessAllowed ? 'block' : 'none';\n",
              "\n",
              "        async function convertToInteractive(key) {\n",
              "          const element = document.querySelector('#df-fd9cd855-37d6-4609-8851-66c22f522f28');\n",
              "          const dataTable =\n",
              "            await google.colab.kernel.invokeFunction('convertToInteractive',\n",
              "                                                     [key], {});\n",
              "          if (!dataTable) return;\n",
              "\n",
              "          const docLinkHtml = 'Like what you see? Visit the ' +\n",
              "            '<a target=\"_blank\" href=https://colab.research.google.com/notebooks/data_table.ipynb>data table notebook</a>'\n",
              "            + ' to learn more about interactive tables.';\n",
              "          element.innerHTML = '';\n",
              "          dataTable['output_type'] = 'display_data';\n",
              "          await google.colab.output.renderOutput(dataTable, element);\n",
              "          const docLink = document.createElement('div');\n",
              "          docLink.innerHTML = docLinkHtml;\n",
              "          element.appendChild(docLink);\n",
              "        }\n",
              "      </script>\n",
              "    </div>\n",
              "  </div>\n",
              "  "
            ]
          },
          "metadata": {},
          "execution_count": 391
        }
      ]
    },
    {
      "cell_type": "markdown",
      "source": [
        "## Penanganan Nilai NULL"
      ],
      "metadata": {
        "id": "DuFfu0MS7Iis"
      }
    },
    {
      "cell_type": "code",
      "source": [
        "df.info()"
      ],
      "metadata": {
        "colab": {
          "base_uri": "https://localhost:8080/"
        },
        "id": "3d4bGOkuwN45",
        "outputId": "6eaa734c-0673-4040-dbd2-8276f1606fc9"
      },
      "execution_count": null,
      "outputs": [
        {
          "output_type": "stream",
          "name": "stdout",
          "text": [
            "<class 'pandas.core.frame.DataFrame'>\n",
            "RangeIndex: 398 entries, 0 to 397\n",
            "Data columns (total 9 columns):\n",
            " #   Column        Non-Null Count  Dtype  \n",
            "---  ------        --------------  -----  \n",
            " 0   mpg           398 non-null    float64\n",
            " 1   cylinders     398 non-null    int64  \n",
            " 2   displacement  398 non-null    float64\n",
            " 3   horsepower    398 non-null    object \n",
            " 4   weight        398 non-null    int64  \n",
            " 5   acceleration  398 non-null    float64\n",
            " 6   model_year    398 non-null    int64  \n",
            " 7   origin        398 non-null    int64  \n",
            " 8   car_name      398 non-null    object \n",
            "dtypes: float64(3), int64(4), object(2)\n",
            "memory usage: 28.1+ KB\n"
          ]
        }
      ]
    },
    {
      "cell_type": "code",
      "source": [
        "# Terdapat data NULL menggunakan string \"?\"\n",
        "index = 0\n",
        "list_index = []\n",
        "for value in df[\"horsepower\"]:\n",
        "  if value == \"?\":\n",
        "    list_index.append(index)\n",
        "  index += 1\n",
        "print(list_index)\n",
        "print(df[\"horsepower\"][32], df[\"horsepower\"][126], df[\"horsepower\"][330], df[\"horsepower\"][336], df[\"horsepower\"][354], df[\"horsepower\"][374])"
      ],
      "metadata": {
        "colab": {
          "base_uri": "https://localhost:8080/"
        },
        "id": "JBDWe45jzW-b",
        "outputId": "487b757e-6cdc-49c8-c9a2-5645d929a8f1"
      },
      "execution_count": null,
      "outputs": [
        {
          "output_type": "stream",
          "name": "stdout",
          "text": [
            "[32, 126, 330, 336, 354, 374]\n",
            "? ? ? ? ? ?\n"
          ]
        }
      ]
    },
    {
      "cell_type": "code",
      "source": [
        "# Ubah semua \"?\" menjadi None\n",
        "for idx in list_index:\n",
        "  df[\"horsepower\"][idx] = None\n",
        "print(df[\"horsepower\"][32], df[\"horsepower\"][126], df[\"horsepower\"][330], df[\"horsepower\"][336], df[\"horsepower\"][354], df[\"horsepower\"][374])"
      ],
      "metadata": {
        "colab": {
          "base_uri": "https://localhost:8080/"
        },
        "id": "b0rBAQVryEGb",
        "outputId": "06d8f3c8-2c27-4fa7-e3a0-76d6d41b8516"
      },
      "execution_count": null,
      "outputs": [
        {
          "output_type": "stream",
          "name": "stdout",
          "text": [
            "None None None None None None\n"
          ]
        }
      ]
    },
    {
      "cell_type": "code",
      "source": [
        "# Ubah tipe data kolom horsepower menjadi numeric\n",
        "df[\"horsepower\"] = pd.to_numeric(df[\"horsepower\"])"
      ],
      "metadata": {
        "id": "Z1N0EJUw79iz"
      },
      "execution_count": null,
      "outputs": []
    },
    {
      "cell_type": "code",
      "source": [
        "# Isi data None pada kolom horsepower menjadi nilai mean kolom tersebut\n",
        "df.fillna(value=df[\"horsepower\"].mean(), inplace=True)\n",
        "print(df[\"horsepower\"][32], df[\"horsepower\"][126], df[\"horsepower\"][330], df[\"horsepower\"][336], df[\"horsepower\"][354], df[\"horsepower\"][374])"
      ],
      "metadata": {
        "colab": {
          "base_uri": "https://localhost:8080/"
        },
        "id": "05zdfnNQ7zIZ",
        "outputId": "b12455b0-53ba-4030-d4b9-1f4ca759a8e4"
      },
      "execution_count": null,
      "outputs": [
        {
          "output_type": "stream",
          "name": "stdout",
          "text": [
            "104.46938775510205 104.46938775510205 104.46938775510205 104.46938775510205 104.46938775510205 104.46938775510205\n"
          ]
        }
      ]
    },
    {
      "cell_type": "code",
      "source": [
        "sum_null = df.isnull().sum().sum()\n",
        "print(\"Jumlah Missing Value : \", sum_null)"
      ],
      "metadata": {
        "colab": {
          "base_uri": "https://localhost:8080/"
        },
        "id": "joPcs4XEysWX",
        "outputId": "f1abbd55-f57b-499a-e383-4a9625c7d3b0"
      },
      "execution_count": null,
      "outputs": [
        {
          "output_type": "stream",
          "name": "stdout",
          "text": [
            "Jumlah Missing Value :  0\n"
          ]
        }
      ]
    },
    {
      "cell_type": "markdown",
      "source": [
        "## Eksplorasi Data"
      ],
      "metadata": {
        "id": "LXf6PJie8nuW"
      }
    },
    {
      "cell_type": "code",
      "source": [
        "df.describe().transpose()"
      ],
      "metadata": {
        "colab": {
          "base_uri": "https://localhost:8080/"
        },
        "id": "CtvJKcGkV3KK",
        "outputId": "ab47fc7b-2586-4e45-8498-d66eccb5b841"
      },
      "execution_count": null,
      "outputs": [
        {
          "output_type": "execute_result",
          "data": {
            "text/plain": [
              "              count         mean         std     min       25%     50%  \\\n",
              "mpg           398.0    23.514573    7.815984     9.0    17.500    23.0   \n",
              "cylinders     398.0     5.454774    1.701004     3.0     4.000     4.0   \n",
              "displacement  398.0   193.425879  104.269838    68.0   104.250   148.5   \n",
              "horsepower    398.0   104.469388   38.199187    46.0    76.000    95.0   \n",
              "weight        398.0  2970.424623  846.841774  1613.0  2223.750  2803.5   \n",
              "acceleration  398.0    15.568090    2.757689     8.0    13.825    15.5   \n",
              "model_year    398.0    76.010050    3.697627    70.0    73.000    76.0   \n",
              "origin        398.0     1.572864    0.802055     1.0     1.000     1.0   \n",
              "\n",
              "                   75%     max  \n",
              "mpg             29.000    46.6  \n",
              "cylinders        8.000     8.0  \n",
              "displacement   262.000   455.0  \n",
              "horsepower     125.000   230.0  \n",
              "weight        3608.000  5140.0  \n",
              "acceleration    17.175    24.8  \n",
              "model_year      79.000    82.0  \n",
              "origin           2.000     3.0  "
            ],
            "text/html": [
              "\n",
              "  <div id=\"df-edcb4bab-12de-4c6e-9e3c-04d4e3ded1da\">\n",
              "    <div class=\"colab-df-container\">\n",
              "      <div>\n",
              "<style scoped>\n",
              "    .dataframe tbody tr th:only-of-type {\n",
              "        vertical-align: middle;\n",
              "    }\n",
              "\n",
              "    .dataframe tbody tr th {\n",
              "        vertical-align: top;\n",
              "    }\n",
              "\n",
              "    .dataframe thead th {\n",
              "        text-align: right;\n",
              "    }\n",
              "</style>\n",
              "<table border=\"1\" class=\"dataframe\">\n",
              "  <thead>\n",
              "    <tr style=\"text-align: right;\">\n",
              "      <th></th>\n",
              "      <th>count</th>\n",
              "      <th>mean</th>\n",
              "      <th>std</th>\n",
              "      <th>min</th>\n",
              "      <th>25%</th>\n",
              "      <th>50%</th>\n",
              "      <th>75%</th>\n",
              "      <th>max</th>\n",
              "    </tr>\n",
              "  </thead>\n",
              "  <tbody>\n",
              "    <tr>\n",
              "      <th>mpg</th>\n",
              "      <td>398.0</td>\n",
              "      <td>23.514573</td>\n",
              "      <td>7.815984</td>\n",
              "      <td>9.0</td>\n",
              "      <td>17.500</td>\n",
              "      <td>23.0</td>\n",
              "      <td>29.000</td>\n",
              "      <td>46.6</td>\n",
              "    </tr>\n",
              "    <tr>\n",
              "      <th>cylinders</th>\n",
              "      <td>398.0</td>\n",
              "      <td>5.454774</td>\n",
              "      <td>1.701004</td>\n",
              "      <td>3.0</td>\n",
              "      <td>4.000</td>\n",
              "      <td>4.0</td>\n",
              "      <td>8.000</td>\n",
              "      <td>8.0</td>\n",
              "    </tr>\n",
              "    <tr>\n",
              "      <th>displacement</th>\n",
              "      <td>398.0</td>\n",
              "      <td>193.425879</td>\n",
              "      <td>104.269838</td>\n",
              "      <td>68.0</td>\n",
              "      <td>104.250</td>\n",
              "      <td>148.5</td>\n",
              "      <td>262.000</td>\n",
              "      <td>455.0</td>\n",
              "    </tr>\n",
              "    <tr>\n",
              "      <th>horsepower</th>\n",
              "      <td>398.0</td>\n",
              "      <td>104.469388</td>\n",
              "      <td>38.199187</td>\n",
              "      <td>46.0</td>\n",
              "      <td>76.000</td>\n",
              "      <td>95.0</td>\n",
              "      <td>125.000</td>\n",
              "      <td>230.0</td>\n",
              "    </tr>\n",
              "    <tr>\n",
              "      <th>weight</th>\n",
              "      <td>398.0</td>\n",
              "      <td>2970.424623</td>\n",
              "      <td>846.841774</td>\n",
              "      <td>1613.0</td>\n",
              "      <td>2223.750</td>\n",
              "      <td>2803.5</td>\n",
              "      <td>3608.000</td>\n",
              "      <td>5140.0</td>\n",
              "    </tr>\n",
              "    <tr>\n",
              "      <th>acceleration</th>\n",
              "      <td>398.0</td>\n",
              "      <td>15.568090</td>\n",
              "      <td>2.757689</td>\n",
              "      <td>8.0</td>\n",
              "      <td>13.825</td>\n",
              "      <td>15.5</td>\n",
              "      <td>17.175</td>\n",
              "      <td>24.8</td>\n",
              "    </tr>\n",
              "    <tr>\n",
              "      <th>model_year</th>\n",
              "      <td>398.0</td>\n",
              "      <td>76.010050</td>\n",
              "      <td>3.697627</td>\n",
              "      <td>70.0</td>\n",
              "      <td>73.000</td>\n",
              "      <td>76.0</td>\n",
              "      <td>79.000</td>\n",
              "      <td>82.0</td>\n",
              "    </tr>\n",
              "    <tr>\n",
              "      <th>origin</th>\n",
              "      <td>398.0</td>\n",
              "      <td>1.572864</td>\n",
              "      <td>0.802055</td>\n",
              "      <td>1.0</td>\n",
              "      <td>1.000</td>\n",
              "      <td>1.0</td>\n",
              "      <td>2.000</td>\n",
              "      <td>3.0</td>\n",
              "    </tr>\n",
              "  </tbody>\n",
              "</table>\n",
              "</div>\n",
              "      <button class=\"colab-df-convert\" onclick=\"convertToInteractive('df-edcb4bab-12de-4c6e-9e3c-04d4e3ded1da')\"\n",
              "              title=\"Convert this dataframe to an interactive table.\"\n",
              "              style=\"display:none;\">\n",
              "        \n",
              "  <svg xmlns=\"http://www.w3.org/2000/svg\" height=\"24px\"viewBox=\"0 0 24 24\"\n",
              "       width=\"24px\">\n",
              "    <path d=\"M0 0h24v24H0V0z\" fill=\"none\"/>\n",
              "    <path d=\"M18.56 5.44l.94 2.06.94-2.06 2.06-.94-2.06-.94-.94-2.06-.94 2.06-2.06.94zm-11 1L8.5 8.5l.94-2.06 2.06-.94-2.06-.94L8.5 2.5l-.94 2.06-2.06.94zm10 10l.94 2.06.94-2.06 2.06-.94-2.06-.94-.94-2.06-.94 2.06-2.06.94z\"/><path d=\"M17.41 7.96l-1.37-1.37c-.4-.4-.92-.59-1.43-.59-.52 0-1.04.2-1.43.59L10.3 9.45l-7.72 7.72c-.78.78-.78 2.05 0 2.83L4 21.41c.39.39.9.59 1.41.59.51 0 1.02-.2 1.41-.59l7.78-7.78 2.81-2.81c.8-.78.8-2.07 0-2.86zM5.41 20L4 18.59l7.72-7.72 1.47 1.35L5.41 20z\"/>\n",
              "  </svg>\n",
              "      </button>\n",
              "      \n",
              "  <style>\n",
              "    .colab-df-container {\n",
              "      display:flex;\n",
              "      flex-wrap:wrap;\n",
              "      gap: 12px;\n",
              "    }\n",
              "\n",
              "    .colab-df-convert {\n",
              "      background-color: #E8F0FE;\n",
              "      border: none;\n",
              "      border-radius: 50%;\n",
              "      cursor: pointer;\n",
              "      display: none;\n",
              "      fill: #1967D2;\n",
              "      height: 32px;\n",
              "      padding: 0 0 0 0;\n",
              "      width: 32px;\n",
              "    }\n",
              "\n",
              "    .colab-df-convert:hover {\n",
              "      background-color: #E2EBFA;\n",
              "      box-shadow: 0px 1px 2px rgba(60, 64, 67, 0.3), 0px 1px 3px 1px rgba(60, 64, 67, 0.15);\n",
              "      fill: #174EA6;\n",
              "    }\n",
              "\n",
              "    [theme=dark] .colab-df-convert {\n",
              "      background-color: #3B4455;\n",
              "      fill: #D2E3FC;\n",
              "    }\n",
              "\n",
              "    [theme=dark] .colab-df-convert:hover {\n",
              "      background-color: #434B5C;\n",
              "      box-shadow: 0px 1px 3px 1px rgba(0, 0, 0, 0.15);\n",
              "      filter: drop-shadow(0px 1px 2px rgba(0, 0, 0, 0.3));\n",
              "      fill: #FFFFFF;\n",
              "    }\n",
              "  </style>\n",
              "\n",
              "      <script>\n",
              "        const buttonEl =\n",
              "          document.querySelector('#df-edcb4bab-12de-4c6e-9e3c-04d4e3ded1da button.colab-df-convert');\n",
              "        buttonEl.style.display =\n",
              "          google.colab.kernel.accessAllowed ? 'block' : 'none';\n",
              "\n",
              "        async function convertToInteractive(key) {\n",
              "          const element = document.querySelector('#df-edcb4bab-12de-4c6e-9e3c-04d4e3ded1da');\n",
              "          const dataTable =\n",
              "            await google.colab.kernel.invokeFunction('convertToInteractive',\n",
              "                                                     [key], {});\n",
              "          if (!dataTable) return;\n",
              "\n",
              "          const docLinkHtml = 'Like what you see? Visit the ' +\n",
              "            '<a target=\"_blank\" href=https://colab.research.google.com/notebooks/data_table.ipynb>data table notebook</a>'\n",
              "            + ' to learn more about interactive tables.';\n",
              "          element.innerHTML = '';\n",
              "          dataTable['output_type'] = 'display_data';\n",
              "          await google.colab.output.renderOutput(dataTable, element);\n",
              "          const docLink = document.createElement('div');\n",
              "          docLink.innerHTML = docLinkHtml;\n",
              "          element.appendChild(docLink);\n",
              "        }\n",
              "      </script>\n",
              "    </div>\n",
              "  </div>\n",
              "  "
            ]
          },
          "metadata": {},
          "execution_count": 398
        }
      ]
    },
    {
      "cell_type": "code",
      "source": [
        "colors = ['#00A19C','#C6C6C6']\n",
        "ut = np.triu(df.corr())\n",
        "\n",
        "fig,ax = plt.subplots(nrows = 1, ncols = 1,figsize = (15,5))\n",
        "plt.subplot(1,2,1)\n",
        "sns.heatmap(df.corr(),cmap = colors,annot = True,cbar = 'True',mask = ut);\n",
        "plt.title('Correlation Matrix : Upper Triangular Format');"
      ],
      "metadata": {
        "colab": {
          "base_uri": "https://localhost:8080/"
        },
        "id": "xVhxzCCXGMgv",
        "outputId": "e9515c02-22f1-4f3e-e594-85045fede058"
      },
      "execution_count": null,
      "outputs": [
        {
          "output_type": "display_data",
          "data": {
            "text/plain": [
              "<Figure size 1080x360 with 2 Axes>"
            ],
            "image/png": "[encoded data removed]"
          },
          "metadata": {
            "needs_background": "light"
          }
        }
      ]
    },
    {
      "cell_type": "code",
      "source": [
        "col = list(df.columns)\n",
        "col.remove('car_name')\n",
        "numerical_features = [*col]\n",
        "fig, ax = plt.subplots(nrows = 2,ncols = 4,figsize = (15,15))\n",
        "for i in range(len(numerical_features)):\n",
        "    plt.subplot(3,3,i+1)\n",
        "    sns.distplot(df[numerical_features[i]],color = colors[0])\n",
        "    title = 'Distribusi : ' + numerical_features[i]\n",
        "    plt.title(title)\n",
        "plt.show()"
      ],
      "metadata": {
        "colab": {
          "base_uri": "https://localhost:8080/"
        },
        "id": "6fATqAHsHAjU",
        "outputId": "e0cf4c74-5b54-4226-f117-cfea9ebbee6f"
      },
      "execution_count": null,
      "outputs": [
        {
          "output_type": "display_data",
          "data": {
            "text/plain": [
              "<Figure size 1080x1080 with 8 Axes>"
            ],
            "image/png": "[encoded data removed]"
          },
          "metadata": {
            "needs_background": "light"
          }
        }
      ]
    },
    {
      "cell_type": "markdown",
      "source": [
        "## Split Data"
      ],
      "metadata": {
        "id": "1gWPT4q4vJCK"
      }
    },
    {
      "cell_type": "code",
      "source": [
        "X = df.drop(\"mpg\", axis=1)\n",
        "X = X.drop(\"car_name\", axis=1)\n",
        "Y = df[\"mpg\"]"
      ],
      "metadata": {
        "id": "OBnLneUGulUR"
      },
      "execution_count": null,
      "outputs": []
    },
    {
      "cell_type": "code",
      "source": [
        "X_train, X_test, y_train, y_test =  train_test_split(X, Y, test_size=0.2, random_state=1)\n",
        "print(X.shape, X_train.shape, X_test.shape)"
      ],
      "metadata": {
        "colab": {
          "base_uri": "https://localhost:8080/"
        },
        "id": "MuR3NSq7tXpG",
        "outputId": "7311caba-c444-4b5d-a201-ac3fcc184733"
      },
      "execution_count": null,
      "outputs": [
        {
          "output_type": "stream",
          "name": "stdout",
          "text": [
            "(398, 7) (318, 7) (80, 7)\n"
          ]
        }
      ]
    },
    {
      "cell_type": "markdown",
      "source": [
        "# **PEMODELAN 🏭**"
      ],
      "metadata": {
        "id": "ppBuQzmiT06i"
      }
    },
    {
      "cell_type": "markdown",
      "source": [
        "## Gradient Boost with Regression"
      ],
      "metadata": {
        "id": "D5yK73nJ-HNC"
      }
    },
    {
      "cell_type": "code",
      "source": [
        "from sklearn.preprocessing import StandardScaler\n",
        "from sklearn.pipeline import make_pipeline\n",
        "from sklearn.ensemble import GradientBoostingRegressor\n",
        "from sklearn.decomposition import PCA\n",
        "from sklearn.metrics import mean_squared_error"
      ],
      "metadata": {
        "id": "jJW8sXnmT6tr"
      },
      "execution_count": null,
      "outputs": []
    },
    {
      "cell_type": "code",
      "source": [
        "gbr_params = {'n_estimators': 1000,\n",
        "          'max_depth': 5,\n",
        "          'min_samples_split': 5,\n",
        "          'learning_rate': 0.01,\n",
        "          'loss': 'squared_error'}\n",
        "\n",
        "gbr = GradientBoostingRegressor(**gbr_params)\n",
        "gbr.fit(X_train, y_train)"
      ],
      "metadata": {
        "id": "BtE_Y2s8W7US",
        "colab": {
          "base_uri": "https://localhost:8080/"
        },
        "outputId": "075f4b88-2034-44f4-a694-f11186a40cd9"
      },
      "execution_count": null,
      "outputs": [
        {
          "output_type": "execute_result",
          "data": {
            "text/plain": [
              "GradientBoostingRegressor(learning_rate=0.01, max_depth=5, min_samples_split=5,\n",
              "                          n_estimators=1000)"
            ]
          },
          "metadata": {},
          "execution_count": 404
        }
      ]
    },
    {
      "cell_type": "code",
      "source": [
        "sc = StandardScaler()\n",
        "X_train_std = sc.fit_transform(X_train)\n",
        "X_test_std = sc.transform(X_test)"
      ],
      "metadata": {
        "id": "LspdkVruBwVy"
      },
      "execution_count": null,
      "outputs": []
    },
    {
      "cell_type": "code",
      "source": [
        "score = gbr.score(X_test, y_test)\n",
        "print(\"Model Accuracy: {:.2%}\".format(score))"
      ],
      "metadata": {
        "colab": {
          "base_uri": "https://localhost:8080/"
        },
        "id": "QUGpd1xI8a68",
        "outputId": "c6254fce-a917-44a7-8020-70b5b4345d58"
      },
      "execution_count": null,
      "outputs": [
        {
          "output_type": "stream",
          "name": "stdout",
          "text": [
            "Model Accuracy: 88.85%\n"
          ]
        }
      ]
    },
    {
      "cell_type": "code",
      "source": [
        "mse = mean_squared_error(y_test, gbr.predict(X_test))\n",
        "print(\"The mean squared error (MSE) on test set: {:.4f}\".format(mse))"
      ],
      "metadata": {
        "id": "_pVhE0vaT-xQ",
        "colab": {
          "base_uri": "https://localhost:8080/"
        },
        "outputId": "774f1cfc-0ce1-4c78-a021-ec484c84a8ed"
      },
      "execution_count": null,
      "outputs": [
        {
          "output_type": "stream",
          "name": "stdout",
          "text": [
            "The mean squared error (MSE) on test set: 6.2841\n"
          ]
        }
      ]
    },
    {
      "cell_type": "code",
      "source": [
        "feature_names = list()\n",
        "for nama_kolom in X_train:\n",
        "  feature_names.append(nama_kolom)\n",
        "\n",
        "feature_names"
      ],
      "metadata": {
        "colab": {
          "base_uri": "https://localhost:8080/"
        },
        "id": "QL4lvS7U9ArD",
        "outputId": "a603b1ac-0bc9-4d04-bbb8-3d3cc5b38570"
      },
      "execution_count": null,
      "outputs": [
        {
          "output_type": "execute_result",
          "data": {
            "text/plain": [
              "['cylinders',\n",
              " 'displacement',\n",
              " 'horsepower',\n",
              " 'weight',\n",
              " 'acceleration',\n",
              " 'model_year',\n",
              " 'origin']"
            ]
          },
          "metadata": {},
          "execution_count": 408
        }
      ]
    },
    {
      "cell_type": "code",
      "source": [
        "import numpy as np\n",
        "import matplotlib.pyplot as plt\n",
        "from sklearn.inspection import permutation_importance\n",
        "\n",
        "feature_importance = gbr.feature_importances_\n",
        "sorted_idx = np.argsort(feature_importance)\n",
        "pos = np.arange(sorted_idx.shape[0]) + .5\n",
        "fig = plt.figure(figsize=(8, 8))\n",
        "plt.barh(pos, feature_importance[sorted_idx], align='center')\n",
        "plt.yticks(pos, np.array(feature_names)[sorted_idx])\n",
        "plt.title('Feature Importance (MDI)')\n",
        "result = permutation_importance(gbr, X_test_std, y_test, n_repeats=10,\n",
        "                                random_state=42, n_jobs=2)\n",
        "sorted_idx = result.importances_mean.argsort()\n",
        "fig.tight_layout()\n",
        "plt.show()"
      ],
      "metadata": {
        "colab": {
          "base_uri": "https://localhost:8080/",
          "height": 641
        },
        "id": "fqkv-WAk8tPX",
        "outputId": "b2f928bd-703c-436c-9a2b-9411c6fe559d"
      },
      "execution_count": null,
      "outputs": [
        {
          "output_type": "stream",
          "name": "stderr",
          "text": [
            "/usr/local/lib/python3.8/dist-packages/sklearn/base.py:450: UserWarning: X does not have valid feature names, but GradientBoostingRegressor was fitted with feature names\n",
            "  warnings.warn(\n"
          ]
        },
        {
          "output_type": "display_data",
          "data": {
            "text/plain": [
              "<Figure size 576x576 with 1 Axes>"
            ],
            "image/png": "[encoded data removed]"
          },
          "metadata": {
            "needs_background": "light"
          }
        }
      ]
    },
    {
      "cell_type": "markdown",
      "source": [
        "# **EVALUASI ✍**"
      ],
      "metadata": {
        "id": "N-vONImIT6zo"
      }
    },
    {
      "cell_type": "markdown",
      "source": [
        "Sebelum melakukan boosting dataset disini kami memanggil library yang diperlukan terlebih dahulu seperti pandas,numpy,matplotlib,dan sklearn. Lalu kita panggil datasetnya kedalam variabel df\n",
        "Setelah itu kita melakukan Pra Pemrosesan data seperti penanganan nilai NULL dan membagi dua dataset menjadi X dan Y. Kita juga melakukan eksplorasi data berupa korelasi matriks yang dimana kolom kolom diatas itu saling berkorelasi dan ada yang berkorelasi negatif dan positif.Ada juga graph distribusi data dimana kita dapat melihat persebaran datanya cenderung ke kiri atau ke kanan. Setelah itu baru kita memulai mengolah data dengan menggunakan library sklearn\n",
        "disini kita mengimport kembali library yang dibutuhkan di dalam sklearn lalu kita tentukan parameter apa saja yang akan dipakai dalam gradient boost kita. Disini kami memakai parameter\n",
        "'n_estimators': 1000,'max_depth': 5,'min_samples_split': 5,'learning_rate': 0.01,'loss': 'squared_error'. Lalu kita panggil methode GradientBoostingRegressor dan memasukan parameter yang telah kita tentukan\n",
        "disini data akan otomatis di boosting.Di dalam boosting ini akan melakukan koreksi Error yang terdapat pada data sebelumnya dengan mengganti residu error dari data sebelumnya. Lalu kita fit kedalam variable X_train dan Y_train. Setelah itu kita dapat melihat accuracy score dari model dan mean squared error dari data test kita. Lalu kita juga membuat\n",
        "perbandingan feature mana saja yang paling berpengaruh bagi target. "
      ],
      "metadata": {
        "id": "_k-KvBP7uSPd"
      }
    },
    {
      "cell_type": "code",
      "source": [
        "data_test = X_test.reset_index()\n",
        "actual_data = y_test.reset_index()\n",
        "\n",
        "\n",
        "hasil_prediksi = gbr.predict(X_test)\n",
        "hasil_prediksi = hasil_prediksi.tolist()\n",
        "predicted_mpg = {\"predicted_mpg\":hasil_prediksi}\n",
        "df_predicted_mpg = pd.DataFrame(predicted_mpg)\n",
        "\n",
        "\n",
        "data_test[\"mpg\"] = actual_data[\"mpg\"]\n",
        "data_test[\"predicted_mpg\"] = df_predicted_mpg\n",
        "data_test"
      ],
      "metadata": {
        "colab": {
          "base_uri": "https://localhost:8080/",
          "height": 424
        },
        "id": "-TLJtqepFbCH",
        "outputId": "842540fa-c995-43ab-9b28-261eab12e730"
      },
      "execution_count": null,
      "outputs": [
        {
          "output_type": "execute_result",
          "data": {
            "text/plain": [
              "    index  cylinders  displacement  horsepower  weight  acceleration  \\\n",
              "0     174          6         171.0        97.0    2984          14.5   \n",
              "1     359          4         141.0        80.0    3230          20.4   \n",
              "2     250          8         318.0       140.0    3735          13.2   \n",
              "3     274          5         131.0       103.0    2830          15.9   \n",
              "4     283          6         232.0        90.0    3265          18.2   \n",
              "..    ...        ...           ...         ...     ...           ...   \n",
              "75    146          4          90.0        75.0    2125          14.5   \n",
              "76    327          5         121.0        67.0    2950          19.9   \n",
              "77    223          8         318.0       145.0    4140          13.7   \n",
              "78    159          8         351.0       148.0    4657          13.5   \n",
              "79     23          4         121.0       113.0    2234          12.5   \n",
              "\n",
              "    model_year  origin   mpg  predicted_mpg  \n",
              "0           75       1  18.0      20.057003  \n",
              "1           81       2  28.1      28.900558  \n",
              "2           78       1  19.4      17.411014  \n",
              "3           78       2  20.3      22.018638  \n",
              "4           79       1  20.2      20.086667  \n",
              "..         ...     ...   ...            ...  \n",
              "75          74       1  28.0      26.591090  \n",
              "76          80       2  36.4      30.507451  \n",
              "77          77       1  15.5      15.255417  \n",
              "78          75       1  14.0      14.952793  \n",
              "79          70       2  26.0      23.353528  \n",
              "\n",
              "[80 rows x 10 columns]"
            ],
            "text/html": [
              "\n",
              "  <div id=\"df-c27d1f1f-e15e-40af-87dc-8d6effe1786b\">\n",
              "    <div class=\"colab-df-container\">\n",
              "      <div>\n",
              "<style scoped>\n",
              "    .dataframe tbody tr th:only-of-type {\n",
              "        vertical-align: middle;\n",
              "    }\n",
              "\n",
              "    .dataframe tbody tr th {\n",
              "        vertical-align: top;\n",
              "    }\n",
              "\n",
              "    .dataframe thead th {\n",
              "        text-align: right;\n",
              "    }\n",
              "</style>\n",
              "<table border=\"1\" class=\"dataframe\">\n",
              "  <thead>\n",
              "    <tr style=\"text-align: right;\">\n",
              "      <th></th>\n",
              "      <th>index</th>\n",
              "      <th>cylinders</th>\n",
              "      <th>displacement</th>\n",
              "      <th>horsepower</th>\n",
              "      <th>weight</th>\n",
              "      <th>acceleration</th>\n",
              "      <th>model_year</th>\n",
              "      <th>origin</th>\n",
              "      <th>mpg</th>\n",
              "      <th>predicted_mpg</th>\n",
              "    </tr>\n",
              "  </thead>\n",
              "  <tbody>\n",
              "    <tr>\n",
              "      <th>0</th>\n",
              "      <td>174</td>\n",
              "      <td>6</td>\n",
              "      <td>171.0</td>\n",
              "      <td>97.0</td>\n",
              "      <td>2984</td>\n",
              "      <td>14.5</td>\n",
              "      <td>75</td>\n",
              "      <td>1</td>\n",
              "      <td>18.0</td>\n",
              "      <td>20.057003</td>\n",
              "    </tr>\n",
              "    <tr>\n",
              "      <th>1</th>\n",
              "      <td>359</td>\n",
              "      <td>4</td>\n",
              "      <td>141.0</td>\n",
              "      <td>80.0</td>\n",
              "      <td>3230</td>\n",
              "      <td>20.4</td>\n",
              "      <td>81</td>\n",
              "      <td>2</td>\n",
              "      <td>28.1</td>\n",
              "      <td>28.900558</td>\n",
              "    </tr>\n",
              "    <tr>\n",
              "      <th>2</th>\n",
              "      <td>250</td>\n",
              "      <td>8</td>\n",
              "      <td>318.0</td>\n",
              "      <td>140.0</td>\n",
              "      <td>3735</td>\n",
              "      <td>13.2</td>\n",
              "      <td>78</td>\n",
              "      <td>1</td>\n",
              "      <td>19.4</td>\n",
              "      <td>17.411014</td>\n",
              "    </tr>\n",
              "    <tr>\n",
              "      <th>3</th>\n",
              "      <td>274</td>\n",
              "      <td>5</td>\n",
              "      <td>131.0</td>\n",
              "      <td>103.0</td>\n",
              "      <td>2830</td>\n",
              "      <td>15.9</td>\n",
              "      <td>78</td>\n",
              "      <td>2</td>\n",
              "      <td>20.3</td>\n",
              "      <td>22.018638</td>\n",
              "    </tr>\n",
              "    <tr>\n",
              "      <th>4</th>\n",
              "      <td>283</td>\n",
              "      <td>6</td>\n",
              "      <td>232.0</td>\n",
              "      <td>90.0</td>\n",
              "      <td>3265</td>\n",
              "      <td>18.2</td>\n",
              "      <td>79</td>\n",
              "      <td>1</td>\n",
              "      <td>20.2</td>\n",
              "      <td>20.086667</td>\n",
              "    </tr>\n",
              "    <tr>\n",
              "      <th>...</th>\n",
              "      <td>...</td>\n",
              "      <td>...</td>\n",
              "      <td>...</td>\n",
              "      <td>...</td>\n",
              "      <td>...</td>\n",
              "      <td>...</td>\n",
              "      <td>...</td>\n",
              "      <td>...</td>\n",
              "      <td>...</td>\n",
              "      <td>...</td>\n",
              "    </tr>\n",
              "    <tr>\n",
              "      <th>75</th>\n",
              "      <td>146</td>\n",
              "      <td>4</td>\n",
              "      <td>90.0</td>\n",
              "      <td>75.0</td>\n",
              "      <td>2125</td>\n",
              "      <td>14.5</td>\n",
              "      <td>74</td>\n",
              "      <td>1</td>\n",
              "      <td>28.0</td>\n",
              "      <td>26.591090</td>\n",
              "    </tr>\n",
              "    <tr>\n",
              "      <th>76</th>\n",
              "      <td>327</td>\n",
              "      <td>5</td>\n",
              "      <td>121.0</td>\n",
              "      <td>67.0</td>\n",
              "      <td>2950</td>\n",
              "      <td>19.9</td>\n",
              "      <td>80</td>\n",
              "      <td>2</td>\n",
              "      <td>36.4</td>\n",
              "      <td>30.507451</td>\n",
              "    </tr>\n",
              "    <tr>\n",
              "      <th>77</th>\n",
              "      <td>223</td>\n",
              "      <td>8</td>\n",
              "      <td>318.0</td>\n",
              "      <td>145.0</td>\n",
              "      <td>4140</td>\n",
              "      <td>13.7</td>\n",
              "      <td>77</td>\n",
              "      <td>1</td>\n",
              "      <td>15.5</td>\n",
              "      <td>15.255417</td>\n",
              "    </tr>\n",
              "    <tr>\n",
              "      <th>78</th>\n",
              "      <td>159</td>\n",
              "      <td>8</td>\n",
              "      <td>351.0</td>\n",
              "      <td>148.0</td>\n",
              "      <td>4657</td>\n",
              "      <td>13.5</td>\n",
              "      <td>75</td>\n",
              "      <td>1</td>\n",
              "      <td>14.0</td>\n",
              "      <td>14.952793</td>\n",
              "    </tr>\n",
              "    <tr>\n",
              "      <th>79</th>\n",
              "      <td>23</td>\n",
              "      <td>4</td>\n",
              "      <td>121.0</td>\n",
              "      <td>113.0</td>\n",
              "      <td>2234</td>\n",
              "      <td>12.5</td>\n",
              "      <td>70</td>\n",
              "      <td>2</td>\n",
              "      <td>26.0</td>\n",
              "      <td>23.353528</td>\n",
              "    </tr>\n",
              "  </tbody>\n",
              "</table>\n",
              "<p>80 rows × 10 columns</p>\n",
              "</div>\n",
              "      <button class=\"colab-df-convert\" onclick=\"convertToInteractive('df-c27d1f1f-e15e-40af-87dc-8d6effe1786b')\"\n",
              "              title=\"Convert this dataframe to an interactive table.\"\n",
              "              style=\"display:none;\">\n",
              "        \n",
              "  <svg xmlns=\"http://www.w3.org/2000/svg\" height=\"24px\"viewBox=\"0 0 24 24\"\n",
              "       width=\"24px\">\n",
              "    <path d=\"M0 0h24v24H0V0z\" fill=\"none\"/>\n",
              "    <path d=\"M18.56 5.44l.94 2.06.94-2.06 2.06-.94-2.06-.94-.94-2.06-.94 2.06-2.06.94zm-11 1L8.5 8.5l.94-2.06 2.06-.94-2.06-.94L8.5 2.5l-.94 2.06-2.06.94zm10 10l.94 2.06.94-2.06 2.06-.94-2.06-.94-.94-2.06-.94 2.06-2.06.94z\"/><path d=\"M17.41 7.96l-1.37-1.37c-.4-.4-.92-.59-1.43-.59-.52 0-1.04.2-1.43.59L10.3 9.45l-7.72 7.72c-.78.78-.78 2.05 0 2.83L4 21.41c.39.39.9.59 1.41.59.51 0 1.02-.2 1.41-.59l7.78-7.78 2.81-2.81c.8-.78.8-2.07 0-2.86zM5.41 20L4 18.59l7.72-7.72 1.47 1.35L5.41 20z\"/>\n",
              "  </svg>\n",
              "      </button>\n",
              "      \n",
              "  <style>\n",
              "    .colab-df-container {\n",
              "      display:flex;\n",
              "      flex-wrap:wrap;\n",
              "      gap: 12px;\n",
              "    }\n",
              "\n",
              "    .colab-df-convert {\n",
              "      background-color: #E8F0FE;\n",
              "      border: none;\n",
              "      border-radius: 50%;\n",
              "      cursor: pointer;\n",
              "      display: none;\n",
              "      fill: #1967D2;\n",
              "      height: 32px;\n",
              "      padding: 0 0 0 0;\n",
              "      width: 32px;\n",
              "    }\n",
              "\n",
              "    .colab-df-convert:hover {\n",
              "      background-color: #E2EBFA;\n",
              "      box-shadow: 0px 1px 2px rgba(60, 64, 67, 0.3), 0px 1px 3px 1px rgba(60, 64, 67, 0.15);\n",
              "      fill: #174EA6;\n",
              "    }\n",
              "\n",
              "    [theme=dark] .colab-df-convert {\n",
              "      background-color: #3B4455;\n",
              "      fill: #D2E3FC;\n",
              "    }\n",
              "\n",
              "    [theme=dark] .colab-df-convert:hover {\n",
              "      background-color: #434B5C;\n",
              "      box-shadow: 0px 1px 3px 1px rgba(0, 0, 0, 0.15);\n",
              "      filter: drop-shadow(0px 1px 2px rgba(0, 0, 0, 0.3));\n",
              "      fill: #FFFFFF;\n",
              "    }\n",
              "  </style>\n",
              "\n",
              "      <script>\n",
              "        const buttonEl =\n",
              "          document.querySelector('#df-c27d1f1f-e15e-40af-87dc-8d6effe1786b button.colab-df-convert');\n",
              "        buttonEl.style.display =\n",
              "          google.colab.kernel.accessAllowed ? 'block' : 'none';\n",
              "\n",
              "        async function convertToInteractive(key) {\n",
              "          const element = document.querySelector('#df-c27d1f1f-e15e-40af-87dc-8d6effe1786b');\n",
              "          const dataTable =\n",
              "            await google.colab.kernel.invokeFunction('convertToInteractive',\n",
              "                                                     [key], {});\n",
              "          if (!dataTable) return;\n",
              "\n",
              "          const docLinkHtml = 'Like what you see? Visit the ' +\n",
              "            '<a target=\"_blank\" href=https://colab.research.google.com/notebooks/data_table.ipynb>data table notebook</a>'\n",
              "            + ' to learn more about interactive tables.';\n",
              "          element.innerHTML = '';\n",
              "          dataTable['output_type'] = 'display_data';\n",
              "          await google.colab.output.renderOutput(dataTable, element);\n",
              "          const docLink = document.createElement('div');\n",
              "          docLink.innerHTML = docLinkHtml;\n",
              "          element.appendChild(docLink);\n",
              "        }\n",
              "      </script>\n",
              "    </div>\n",
              "  </div>\n",
              "  "
            ]
          },
          "metadata": {},
          "execution_count": 410
        }
      ]
    },
    {
      "cell_type": "markdown",
      "source": [
        "# **EKSPERIMEN 🧪**"
      ],
      "metadata": {
        "id": "u-o_Ozr4UD_l"
      }
    },
    {
      "cell_type": "markdown",
      "source": [
        "## Eksperimen 1, ubah presentase split data dan parameter boosting"
      ],
      "metadata": {
        "id": "9jD8hdbIR4hX"
      }
    },
    {
      "cell_type": "code",
      "source": [
        "X_train, X_test, y_train, y_test =  train_test_split(X, Y, test_size=0.15, random_state=1)\n",
        "print(X.shape, X_train.shape, X_test.shape)"
      ],
      "metadata": {
        "colab": {
          "base_uri": "https://localhost:8080/"
        },
        "id": "pQAcTaJEPXHZ",
        "outputId": "dfb82ce1-8aa8-4c5a-a924-99a0123296bd"
      },
      "execution_count": null,
      "outputs": [
        {
          "output_type": "stream",
          "name": "stdout",
          "text": [
            "(398, 7) (338, 7) (60, 7)\n"
          ]
        }
      ]
    },
    {
      "cell_type": "markdown",
      "source": [
        "Mengubah pembagian menjadi 15 : 85"
      ],
      "metadata": {
        "id": "3gBzlTpkRHN5"
      }
    },
    {
      "cell_type": "code",
      "source": [
        "gbr_params = {'n_estimators': 350,\n",
        "          'max_depth': 3,\n",
        "          'min_samples_split': 5,\n",
        "          'learning_rate': 0.01,\n",
        "          'loss': 'squared_error'}\n",
        "\n",
        "gbr = GradientBoostingRegressor(**gbr_params)\n",
        "gbr.fit(X_train, y_train)"
      ],
      "metadata": {
        "id": "wrfBy3PnUNQC",
        "colab": {
          "base_uri": "https://localhost:8080/"
        },
        "outputId": "9b706a2c-5b40-42c1-9f79-095a1b1e458b"
      },
      "execution_count": null,
      "outputs": [
        {
          "output_type": "execute_result",
          "data": {
            "text/plain": [
              "GradientBoostingRegressor(learning_rate=0.01, min_samples_split=5,\n",
              "                          n_estimators=350)"
            ]
          },
          "metadata": {},
          "execution_count": 413
        }
      ]
    },
    {
      "cell_type": "markdown",
      "source": [
        "Mengubah n_estimators : 350, max_depth : 3"
      ],
      "metadata": {
        "id": "ah8Rf0JLQ9DM"
      }
    },
    {
      "cell_type": "code",
      "source": [
        "sc = StandardScaler()\n",
        "X_train_std = sc.fit_transform(X_train)\n",
        "X_test_std = sc.transform(X_test)"
      ],
      "metadata": {
        "id": "lJ7w_XY6DKGh"
      },
      "execution_count": null,
      "outputs": []
    },
    {
      "cell_type": "code",
      "source": [
        "score = gbr.score(X_test, y_test)\n",
        "print(\"Model Accuracy: {:.2%}\".format(score))"
      ],
      "metadata": {
        "colab": {
          "base_uri": "https://localhost:8080/"
        },
        "id": "2VwxR1_-DT0M",
        "outputId": "8acb3da4-83aa-466e-a90d-abdac0881998"
      },
      "execution_count": null,
      "outputs": [
        {
          "output_type": "stream",
          "name": "stdout",
          "text": [
            "Model Accuracy: 93.50%\n"
          ]
        }
      ]
    },
    {
      "cell_type": "code",
      "source": [
        "mse = mean_squared_error(y_test, gbr.predict(X_test))\n",
        "print(\"The mean squared error (MSE) on test set: {:.4f}\".format(mse))"
      ],
      "metadata": {
        "colab": {
          "base_uri": "https://localhost:8080/"
        },
        "id": "pDCZP3KkOAgY",
        "outputId": "d92a9067-7a19-4781-eeeb-b52ecdd8898c"
      },
      "execution_count": null,
      "outputs": [
        {
          "output_type": "stream",
          "name": "stdout",
          "text": [
            "The mean squared error (MSE) on test set: 3.4145\n"
          ]
        }
      ]
    },
    {
      "cell_type": "code",
      "source": [
        "feature_names = list()\n",
        "for nama_kolom in X_train:\n",
        "  feature_names.append(nama_kolom)\n",
        "\n",
        "feature_names"
      ],
      "metadata": {
        "colab": {
          "base_uri": "https://localhost:8080/"
        },
        "id": "8Ef2If0AOE4z",
        "outputId": "e89c335a-87db-4fd1-f166-dec1bd1e99af"
      },
      "execution_count": null,
      "outputs": [
        {
          "output_type": "execute_result",
          "data": {
            "text/plain": [
              "['cylinders',\n",
              " 'displacement',\n",
              " 'horsepower',\n",
              " 'weight',\n",
              " 'acceleration',\n",
              " 'model_year',\n",
              " 'origin']"
            ]
          },
          "metadata": {},
          "execution_count": 417
        }
      ]
    },
    {
      "cell_type": "code",
      "source": [
        "import numpy as np\n",
        "import matplotlib.pyplot as plt\n",
        "from sklearn.inspection import permutation_importance\n",
        "\n",
        "feature_importance = gbr.feature_importances_\n",
        "sorted_idx = np.argsort(feature_importance)\n",
        "pos = np.arange(sorted_idx.shape[0]) + .5\n",
        "fig = plt.figure(figsize=(8, 8))\n",
        "plt.barh(pos, feature_importance[sorted_idx], align='center')\n",
        "plt.yticks(pos, np.array(feature_names)[sorted_idx])\n",
        "plt.title('Feature Importance (MDI)')\n",
        "result = permutation_importance(gbr, X_test_std, y_test, n_repeats=10,\n",
        "                                random_state=42, n_jobs=2)\n",
        "sorted_idx = result.importances_mean.argsort()\n",
        "fig.tight_layout()\n",
        "plt.show()"
      ],
      "metadata": {
        "colab": {
          "base_uri": "https://localhost:8080/"
        },
        "id": "P0A0ZkRfOXB-",
        "outputId": "020bd7da-f654-4e5b-debd-871628a372d4"
      },
      "execution_count": null,
      "outputs": [
        {
          "output_type": "stream",
          "name": "stderr",
          "text": [
            "/usr/local/lib/python3.8/dist-packages/sklearn/base.py:450: UserWarning: X does not have valid feature names, but GradientBoostingRegressor was fitted with feature names\n",
            "  warnings.warn(\n"
          ]
        },
        {
          "output_type": "display_data",
          "data": {
            "text/plain": [
              "<Figure size 576x576 with 1 Axes>"
            ],
            "image/png": "[encoded data removed]"
          },
          "metadata": {
            "needs_background": "light"
          }
        }
      ]
    },
    {
      "cell_type": "markdown",
      "source": [
        "## Eksperimen 2, drop weight dan origin"
      ],
      "metadata": {
        "id": "SyJqVszZRpmH"
      }
    },
    {
      "cell_type": "code",
      "source": [
        "X = df.drop(\"mpg\", axis=1)\n",
        "X = X.drop(\"car_name\", axis=1)\n",
        "X = X.drop(\"weight\", axis=1)\n",
        "X = X.drop(\"origin\", axis=1)\n",
        "Y = df[\"mpg\"]"
      ],
      "metadata": {
        "id": "Gy8nzdqWRo6P"
      },
      "execution_count": null,
      "outputs": []
    },
    {
      "cell_type": "code",
      "source": [
        "X_train, X_test, y_train, y_test =  train_test_split(X, Y, test_size=0.15, random_state=1)\n",
        "print(X.shape, X_train.shape, X_test.shape)"
      ],
      "metadata": {
        "colab": {
          "base_uri": "https://localhost:8080/"
        },
        "id": "IBpGz5OXSbTo",
        "outputId": "a97d4ef5-4eb8-4cda-e9c7-5c57d5cd538b"
      },
      "execution_count": null,
      "outputs": [
        {
          "output_type": "stream",
          "name": "stdout",
          "text": [
            "(398, 5) (338, 5) (60, 5)\n"
          ]
        }
      ]
    },
    {
      "cell_type": "code",
      "source": [
        "gbr_params = {'n_estimators': 350,\n",
        "          'max_depth': 3,\n",
        "          'min_samples_split': 5,\n",
        "          'learning_rate': 0.01,\n",
        "          'loss': 'squared_error'}\n",
        "\n",
        "gbr = GradientBoostingRegressor(**gbr_params)\n",
        "gbr.fit(X_train, y_train)"
      ],
      "metadata": {
        "colab": {
          "base_uri": "https://localhost:8080/"
        },
        "id": "R4-ECwmlSb_u",
        "outputId": "65fe45ac-40fe-4742-b0f4-92681cfe97f5"
      },
      "execution_count": null,
      "outputs": [
        {
          "output_type": "execute_result",
          "data": {
            "text/plain": [
              "GradientBoostingRegressor(learning_rate=0.01, min_samples_split=5,\n",
              "                          n_estimators=350)"
            ]
          },
          "metadata": {},
          "execution_count": 421
        }
      ]
    },
    {
      "cell_type": "code",
      "source": [
        "sc = StandardScaler()\n",
        "X_train_std = sc.fit_transform(X_train)\n",
        "X_test_std = sc.transform(X_test)"
      ],
      "metadata": {
        "id": "yFJsqZr-SgJ5"
      },
      "execution_count": null,
      "outputs": []
    },
    {
      "cell_type": "code",
      "source": [
        "score = gbr.score(X_test, y_test)\n",
        "print(\"Model Accuracy: {:.2%}\".format(score))"
      ],
      "metadata": {
        "colab": {
          "base_uri": "https://localhost:8080/"
        },
        "id": "KEQ0N2IqSi8C",
        "outputId": "d9bbe8b2-af27-4b39-b275-69a381c9daca"
      },
      "execution_count": null,
      "outputs": [
        {
          "output_type": "stream",
          "name": "stdout",
          "text": [
            "Model Accuracy: 92.40%\n"
          ]
        }
      ]
    },
    {
      "cell_type": "code",
      "source": [
        "mse = mean_squared_error(y_test, gbr.predict(X_test))\n",
        "print(\"The mean squared error (MSE) on test set: {:.4f}\".format(mse))"
      ],
      "metadata": {
        "colab": {
          "base_uri": "https://localhost:8080/"
        },
        "id": "xfz-zDKFSo13",
        "outputId": "81a225ae-d4a9-4a10-b90b-254e1dcfa28f"
      },
      "execution_count": null,
      "outputs": [
        {
          "output_type": "stream",
          "name": "stdout",
          "text": [
            "The mean squared error (MSE) on test set: 3.9908\n"
          ]
        }
      ]
    },
    {
      "cell_type": "code",
      "source": [
        "feature_names = list()\n",
        "for nama_kolom in X_train:\n",
        "  feature_names.append(nama_kolom)\n",
        "\n",
        "feature_names"
      ],
      "metadata": {
        "colab": {
          "base_uri": "https://localhost:8080/"
        },
        "id": "Dt1G99BESq8N",
        "outputId": "a189fa7f-e1d4-43aa-d727-cf9755e78be2"
      },
      "execution_count": null,
      "outputs": [
        {
          "output_type": "execute_result",
          "data": {
            "text/plain": [
              "['cylinders', 'displacement', 'horsepower', 'acceleration', 'model_year']"
            ]
          },
          "metadata": {},
          "execution_count": 425
        }
      ]
    },
    {
      "cell_type": "code",
      "source": [
        "import numpy as np\n",
        "import matplotlib.pyplot as plt\n",
        "from sklearn.inspection import permutation_importance\n",
        "\n",
        "feature_importance = gbr.feature_importances_\n",
        "sorted_idx = np.argsort(feature_importance)\n",
        "pos = np.arange(sorted_idx.shape[0]) + .5\n",
        "fig = plt.figure(figsize=(8, 8))\n",
        "plt.barh(pos, feature_importance[sorted_idx], align='center')\n",
        "plt.yticks(pos, np.array(feature_names)[sorted_idx])\n",
        "plt.title('Feature Importance (MDI)')\n",
        "result = permutation_importance(gbr, X_test_std, y_test, n_repeats=10,\n",
        "                                random_state=42, n_jobs=2)\n",
        "sorted_idx = result.importances_mean.argsort()\n",
        "fig.tight_layout()\n",
        "plt.show()"
      ],
      "metadata": {
        "colab": {
          "base_uri": "https://localhost:8080/"
        },
        "id": "vu78pccSSuHQ",
        "outputId": "0e96ac2e-ddc1-4668-9518-dd642086e198"
      },
      "execution_count": null,
      "outputs": [
        {
          "output_type": "stream",
          "name": "stderr",
          "text": [
            "/usr/local/lib/python3.8/dist-packages/sklearn/base.py:450: UserWarning: X does not have valid feature names, but GradientBoostingRegressor was fitted with feature names\n",
            "  warnings.warn(\n"
          ]
        },
        {
          "output_type": "display_data",
          "data": {
            "text/plain": [
              "<Figure size 576x576 with 1 Axes>"
            ],
            "image/png": "[encoded data removed]"
          },
          "metadata": {
            "needs_background": "light"
          }
        }
      ]
    },
    {
      "cell_type": "markdown",
      "source": [
        "# **KESIMPULAN ⭐**"
      ],
      "metadata": {
        "id": "fYrJK2QJUEHE"
      }
    },
    {
      "cell_type": "markdown",
      "source": [
        "Saat melakukan Gradient Boosting dengan regresi didapatkan accuracy 88% dan Mean Squared Error 6.350. Namun setelah melakukan eksperimen pertama, yaitu mengubah split data dimana datanya akan dibagi menjadi 15 : 85, lalu params n_estimators diubah menjadi 350 dan params max_depth menjadi 3, didapatkan accuracy yang lebih baik yaitu sebesar 93.46% dan Mean Squared Error yang lebih kecil yaitu 3.430. Lalu kita melakukan eksperimen kedua, yaitu dengan cara drop weight dan origin, eksperimen ini dilakukan karena weight dan origin merupakan feature importance terbesar. Didapatkan accuracy sebesar 92.28% dan Mean Squared Error sebesar 4.0571. Maka dapat disimpulkan bahwa eksperimen dengan mengubah split data dan params akan menghasilkan Model Accuracy yang lebih baik dan MSE yang lebih kecil.\n",
        "\n"
      ],
      "metadata": {
        "id": "tGJxWldiBjLH"
      }
    }
  ]
}