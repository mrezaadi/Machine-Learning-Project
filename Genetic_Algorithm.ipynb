{
  "nbformat": 4,
  "nbformat_minor": 0,
  "metadata": {
    "colab": {
      "provenance": [],
      "collapsed_sections": [
        "YhBYMF1h3nJ_",
        "o-ZuAWIPN-Uv",
        "p5-Nsskg_ZGC",
        "yKmifj3QNLuL",
        "MCmEKumfNQhv",
        "UIQCmeobOEi-",
        "Gn8F_Vz5TXVb",
        "UlQlz8mOau-V",
        "iuDNisUEMfQo",
        "4UqcEE-qSnr7"
      ]
    },
    "kernelspec": {
      "name": "python3",
      "display_name": "Python 3"
    },
    "language_info": {
      "name": "python"
    }
  },
  "cells": [
    {
      "cell_type": "markdown",
      "source": [
        "# **PSEUDOCODE ALGORITMA GENETIKA**\n"
      ],
      "metadata": {
        "id": "YhBYMF1h3nJ_"
      }
    },
    {
      "cell_type": "markdown",
      "source": [
        "Source : Yang, X.-S. (2021). Nature-inspired optimization algorithms. Academic Press. "
      ],
      "metadata": {
        "id": "3rFplZJAchNr"
      }
    },
    {
      "cell_type": "markdown",
      "source": [
        "Fungsi\n",
        "$$h(x,y)= \\frac{(cos (x) + sin(y))^2}{x^2 + y^2}$$\n",
        "\n",
        "Batas Nilai\n",
        "$$-5 \\le x \\le 5$$\n",
        "$$-5 \\le y \\le 5$$"
      ],
      "metadata": {
        "id": "q8lP3eu7bvky"
      }
    },
    {
      "cell_type": "markdown",
      "source": [
        "```\n",
        "program genetic_algorithm\n",
        "\n",
        "membentuk kromosom\n",
        "mendefinisikan fungsi fitness\n",
        "membentuk populasi awal\n",
        "menentukan peluang crossover, peluang mutasi, dan banyak generasi\n",
        "\n",
        "for i == 1 to n do\n",
        "  for j == 1 to n do\n",
        "    lakukan seleksi\n",
        "    lakukan crossover\n",
        "    lakukan mutasi\n",
        "  endfor\n",
        "  gabung semua kromosom\n",
        "  pilih n kromosom terbaik -> populasi baru\n",
        "endfor\n",
        "```"
      ],
      "metadata": {
        "id": "okHVu5gj-BWH"
      }
    },
    {
      "cell_type": "markdown",
      "source": [
        "# **FUNGSI YANG DIBUTUHKAN**\n",
        "\n"
      ],
      "metadata": {
        "id": "tgu-OqL_9lKh"
      }
    },
    {
      "cell_type": "markdown",
      "source": [
        "## *Library*"
      ],
      "metadata": {
        "id": "o-ZuAWIPN-Uv"
      }
    },
    {
      "cell_type": "code",
      "source": [
        "#Import Library\n",
        "import numpy as np\n",
        "import pandas as pd\n",
        "import math"
      ],
      "metadata": {
        "id": "CDQU8Yvj70fl"
      },
      "execution_count": null,
      "outputs": []
    },
    {
      "cell_type": "markdown",
      "source": [
        "## *Prasyarat Kondisi*"
      ],
      "metadata": {
        "id": "p5-Nsskg_ZGC"
      }
    },
    {
      "cell_type": "code",
      "execution_count": null,
      "metadata": {
        "id": "opgnS-9D7lLo"
      },
      "outputs": [],
      "source": [
        "# Batas nilai maksimum dan minimum dari variable fungsi h(x)\n",
        "min_value = -5\n",
        "max_value = 5\n",
        "\n",
        "# Banyaknya variabel atau panjang dari kromosom\n",
        "m = 2\n",
        "\n",
        "# Jumlah individu dalam populasi\n",
        "n = 100\n",
        "\n",
        "# Peluang crossover\n",
        "pc = 1\n",
        "\n",
        "# Peluang mutasi\n",
        "pm = 1\n",
        "\n",
        "# Generasi maksimum\n",
        "N = 100\n",
        "\n",
        "# Fungsi yang akan dicari nilai minimumnya\n",
        "def h(x,y):\n",
        "\treturn (math.cos(x)+math.sin(y))**2/(x**2 + y**2)"
      ]
    },
    {
      "cell_type": "markdown",
      "source": [
        "## *Populasi atau Dekode Kromosom*"
      ],
      "metadata": {
        "id": "yKmifj3QNLuL"
      }
    },
    {
      "cell_type": "code",
      "source": [
        "'''\n",
        "Populasi awal antara dengan nilai x dan y antara -5 dan 5\n",
        "Populasi dibuat ke dalam bentuk data frame agar lebih mudah diolah\n",
        "Mengembalikan dataframe populasi\n",
        "'''\n",
        "def buat_populasi():\n",
        "  populasi = np.random.rand(n,m)*(max_value - min_value)+ min_value\n",
        "  populasi = pd.DataFrame(populasi)\n",
        "  populasi.columns = [\"Nilai x\", \"Nilai y\"]\n",
        "  return populasi"
      ],
      "metadata": {
        "id": "mN9447kMBFcB"
      },
      "execution_count": null,
      "outputs": []
    },
    {
      "cell_type": "markdown",
      "source": [
        "## *Fitness*"
      ],
      "metadata": {
        "id": "MCmEKumfNQhv"
      }
    },
    {
      "cell_type": "code",
      "source": [
        "'''\n",
        "Mengukur fitness berdasarkan fungsi h(x,y)\n",
        "Mengembalikan hasil pengukuran dan dimasukkan ke kolom Fitness dalam dataframe populasi\n",
        "'''\n",
        "def fitness(populasi):\n",
        "  fitness = {\"Fitness\":[]}\n",
        "  for i in range(n):\n",
        "    fitness[\"Fitness\"].append(h(populasi[\"Nilai x\"][i], populasi[\"Nilai y\"][i]))\n",
        "  fitness = pd.DataFrame(fitness)\n",
        "  populasi[\"Fitness\"] = fitness\n",
        "  return populasi"
      ],
      "metadata": {
        "id": "CYmntTkBTOQa"
      },
      "execution_count": null,
      "outputs": []
    },
    {
      "cell_type": "markdown",
      "source": [
        "## *Seleksi*"
      ],
      "metadata": {
        "id": "UIQCmeobOEi-"
      }
    },
    {
      "cell_type": "code",
      "source": [
        "'''\n",
        "Memilih 2 kromosom yang akan diambil sebagai parent menggunakan random numpy\n",
        "Mengembalikan 2 buah posisi kromosom yang dijadikan parent\n",
        "'''\n",
        "def seleksi():\n",
        "  # Menggunakan np.random.permutation akan membuat permutasi dari 0-(n-1) bilangan. Nilainya selalu berubah\n",
        "  posisi = np.random.permutation(n)\n",
        "  # Karena nilai selalu berubah, kita ambil saja nilai pada index 0 dan 1\n",
        "  return posisi[0], posisi[1]"
      ],
      "metadata": {
        "id": "jk7S8XF0OKEc"
      },
      "execution_count": null,
      "outputs": []
    },
    {
      "cell_type": "markdown",
      "source": [
        "## *Crossover atau Rekombinasi*"
      ],
      "metadata": {
        "id": "Gn8F_Vz5TXVb"
      }
    },
    {
      "cell_type": "code",
      "source": [
        "'''\n",
        "Memilih dua parent secara acak berdasarkan fungsi seleksi()\n",
        "Dua parent tersebut dilakukan crossover dengan cara menghitung rata-rata x dan y kedua parent\n",
        "Hitung fitness kromosom baru yang terbentuk menggunakan fungsi fitness()\n",
        "Mengembalikan populasi hasil crossover\n",
        "'''\n",
        "def crossover(populasi):\n",
        "  populasi_crossover = populasi.copy()\n",
        "  for i in range(n):\n",
        "    parent1, parent2 = seleksi()\n",
        "    x = (populasi.loc[parent1]+populasi.loc[parent2])/2\n",
        "    populasi_crossover.loc[i] = x\n",
        "  populasi_crossover = fitness(populasi_crossover)\n",
        "  return populasi_crossover"
      ],
      "metadata": {
        "id": "zMD5tnTJUCHn"
      },
      "execution_count": null,
      "outputs": []
    },
    {
      "cell_type": "markdown",
      "source": [
        "## *Mutasi*"
      ],
      "metadata": {
        "id": "UlQlz8mOau-V"
      }
    },
    {
      "cell_type": "code",
      "source": [
        "'''\n",
        "Mutasi terjadi dengan cara menambahkan bilangan acak antara -1 dan 1\n",
        "Bilangan acak didapatkan dengan menggunkan random numpy\n",
        "Hitung fitness kromosom baru yang terbentuk menggunakan fungsi fitness()\n",
        "Fungsi mengembalikan populasi hasil mutasi\n",
        "'''\n",
        "def mutasi(populasi_crossover):\n",
        "  populasi_mutasi = populasi_crossover.copy() # Copy populasi hasil crossover\n",
        "  for i in range(n):\n",
        "    for j in populasi_mutasi.columns:\n",
        "      populasi_mutasi.loc[i][j] += np.random.rand()*2-1 # Menambahkan setiap baris dan kolom \n",
        "  populasi_mutasi = fitness(populasi_mutasi)\n",
        "  return populasi_mutasi"
      ],
      "metadata": {
        "id": "0rzblSVma31O"
      },
      "execution_count": null,
      "outputs": []
    },
    {
      "cell_type": "markdown",
      "source": [
        "## *Gabung Semua Populasi*"
      ],
      "metadata": {
        "id": "iuDNisUEMfQo"
      }
    },
    {
      "cell_type": "code",
      "source": [
        "'''\n",
        "Terdapat 3 populasi berbeda yaitu populasi awal, populasi hasil crossover, dan populasi hasil mutasi\n",
        "Gabungan semua populasi tersebut menjadi satu dataframe\n",
        "Mengembalikan populasi gabungan dari populasi awal, populasi hasil crossover, dan populasi hasil mutasi\n",
        "'''\n",
        "def gabung_populasi(populasi, populasi_crossover, populasi_mutasi):\n",
        "  populasi_gabungan = populasi.copy() # Copy data kromosom populasi awal\n",
        "  populasi_gabungan = populasi_gabungan.append(populasi_crossover) # Tambahkan data kromosom hasil crossover\n",
        "  populasi_gabungan = populasi_gabungan.append(populasi_mutasi) # Tambahkan data kromosom hasil mutasi\n",
        "  populasi_gabungan = populasi_gabungan.drop_duplicates() # Hapus data jika ada yang sama antara populasi awal, populasi kromosom, dan populasi hasil mutasi\n",
        "  populasi_gabungan.index = range(len(populasi_gabungan)) # Ubah index supaya terurut dari index 0 sampai banyak populasi\n",
        "  return populasi_gabungan"
      ],
      "metadata": {
        "id": "rNU_T8F1iWOu"
      },
      "execution_count": null,
      "outputs": []
    },
    {
      "cell_type": "markdown",
      "source": [
        "## *Seleksi Survivor*"
      ],
      "metadata": {
        "id": "4UqcEE-qSnr7"
      }
    },
    {
      "cell_type": "code",
      "source": [
        "'''\n",
        "Populasi gabungan diberikan dalam parameter\n",
        "Populasi diurutkan berdasarkan nilai fitness terkecil\n",
        "Mengembalikan populasi gabungan yang sudah diurutkan berdasarkan nilai fitnessnya\n",
        "'''\n",
        "def sort_fitness_populasi(populasi_gabungan):\n",
        "  populasi_gabungan = populasi_gabungan.sort_values(by=[\"Fitness\"])\n",
        "  populasi_gabungan.index = range(len(populasi_gabungan)) #Ubah index agar sesuai dari 0-panjang populasi gabungan\n",
        "  return populasi_gabungan"
      ],
      "metadata": {
        "id": "BG2wOlckRObi"
      },
      "execution_count": null,
      "outputs": []
    },
    {
      "cell_type": "code",
      "source": [
        "'''\n",
        "Populasi gabungan yang sudah terurut berdasarkan nilai fitness diberikan di dalam parameter\n",
        "Ambil n data teratas untuk dijadikan populasi awal\n",
        "Mengembalikan populasi awal berdasarkan n nilai fitness tertinggi dalam populasi gabungan\n",
        "'''\n",
        "def eliminasi(populasi_gabungan):\n",
        "  global populasi\n",
        "  populasi = populasi_gabungan.head(n) #Ambil n data teratas\n",
        "  return populasi"
      ],
      "metadata": {
        "id": "BM8Ay9k0TVJe"
      },
      "execution_count": null,
      "outputs": []
    },
    {
      "cell_type": "markdown",
      "source": [
        "# **PROGRAM UTAMA ALGORITMA GENETIKA**"
      ],
      "metadata": {
        "id": "lZPv6ao3UBMK"
      }
    },
    {
      "cell_type": "markdown",
      "source": [
        "```\n",
        "program genetic_algorithm\n",
        "\n",
        "membentuk kromosom\n",
        "mendefinisikan fungsi fitness\n",
        "membentuk populasi awal\n",
        "menentukan peluang crossover, peluang mutasi, dan banyak generasi\n",
        "\n",
        "for i == 1 to n do\n",
        "  for j == 1 to n do\n",
        "    lakukan seleksi\n",
        "    lakukan crossover\n",
        "    lakukan mutasi\n",
        "  endfor\n",
        "  gabung semua kromosom\n",
        "  pilih n kromosom terbaik -> populasi baru\n",
        "endfor\n",
        "```\n",
        "\n"
      ],
      "metadata": {
        "id": "YpZmVZTDUQVt"
      }
    },
    {
      "cell_type": "code",
      "source": [
        "populasi = buat_populasi()\n",
        "populasi = fitness(populasi)\n",
        "print(\"<<<<<<<<<< POPULASI GENERASI {} >>>>>>>>>\".format(1))\n",
        "print(populasi)\n",
        "print()\n",
        "\n",
        "\n",
        "\n",
        "for i in range(1, N+1):\n",
        "  if populasi[\"Fitness\"][0] != 0:\n",
        "    populasi_crossover = crossover(populasi)\n",
        "    populasi_mutasi = mutasi(populasi_crossover)\n",
        "    populasi_gabungan = gabung_populasi(populasi, populasi_crossover, populasi_mutasi)\n",
        "    populasi_gabungan = sort_fitness_populasi(populasi_gabungan)\n",
        "    populasi = eliminasi(populasi_gabungan)\n",
        "  if (i == N and populasi[\"Fitness\"][0] == 0):\n",
        "    print()\n",
        "    print(\"<<<<<<<<<< POPULASI GENERASI {} >>>>>>>>>\".format(i))\n",
        "    print(populasi)\n",
        "    break\n",
        "  elif populasi[\"Fitness\"][0] == 0:\n",
        "    print()\n",
        "    print(\"<<<<<<<<<< POPULASI GENERASI {} >>>>>>>>>\".format(i))\n",
        "    print(populasi)\n",
        "    break\n",
        "    \n",
        "print()\n",
        "\n",
        "print(\"Jadi nilai minimum yang didapatkan apabila x =\", populasi[\"Nilai x\"][0], \"dan nilai y =\", populasi[\"Nilai y\"][0])\n",
        "print(\"Dengan nilai h(x,y)=\",h(populasi[\"Nilai x\"][0], populasi[\"Nilai y\"][0]))"
      ],
      "metadata": {
        "colab": {
          "base_uri": "https://localhost:8080/"
        },
        "id": "x9eoScVBUGfo",
        "outputId": "29072462-41f7-4536-ed7c-739e66ce1209"
      },
      "execution_count": null,
      "outputs": [
        {
          "output_type": "stream",
          "name": "stdout",
          "text": [
            "<<<<<<<<<< POPULASI GENERASI 1 >>>>>>>>>\n",
            "     Nilai x   Nilai y       Fitness\n",
            "0  -1.127410  3.586084  7.043076e-08\n",
            "1  -2.170004 -4.493177  6.820366e-03\n",
            "2   1.783155  0.506596  2.191797e-02\n",
            "3   4.999113  0.003894  3.289172e-03\n",
            "4  -2.243566 -1.933891  2.766540e-01\n",
            "..       ...       ...           ...\n",
            "95  1.144934  0.484195  4.995356e-01\n",
            "96  0.441716 -3.852210  1.611037e-01\n",
            "97 -2.248749  2.927497  1.262233e-02\n",
            "98  2.274805 -2.223087  2.055272e-01\n",
            "99 -3.714759 -4.348801  2.726470e-04\n",
            "\n",
            "[100 rows x 3 columns]\n",
            "\n",
            "\n",
            "<<<<<<<<<< POPULASI GENERASI 38 >>>>>>>>>\n",
            "         Nilai x   Nilai y       Fitness\n",
            "0   1.722489e-08 -1.570796  0.000000e+00\n",
            "1   4.840818e-07 -1.570797  4.995517e-33\n",
            "2   3.326368e-08 -1.570796  4.995520e-33\n",
            "3   1.435941e-08 -1.570796  4.995520e-33\n",
            "4  -2.636276e-08 -1.570796  4.995520e-33\n",
            "..           ...       ...           ...\n",
            "95 -6.844037e-08 -1.570796  2.176048e-29\n",
            "96 -1.266017e-07 -1.570796  2.242489e-29\n",
            "97  3.039205e-07 -1.570797  2.378366e-29\n",
            "98  2.470654e-07 -1.570797  2.378366e-29\n",
            "99  8.661229e-08 -1.570796  2.378367e-29\n",
            "\n",
            "[100 rows x 3 columns]\n",
            "\n",
            "Jadi nilai minimum yang didapatkan apabila x = 1.7224889237154698e-08 dan nilai y = -1.5707963422349909\n",
            "Dengan nilai h(x,y)= 0.0\n"
          ]
        }
      ]
    }
  ]
}